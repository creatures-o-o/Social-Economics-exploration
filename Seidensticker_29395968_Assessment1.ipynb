{
 "cells": [
  {
   "cell_type": "markdown",
   "metadata": {},
   "source": [
    "# Assignment 1 FIT5145 - Introduction to Data Science\n",
    "\n",
    "Nhung Seidensticker\n",
    "\n",
    "Monash ID: 29395968\n",
    "\n",
    "User Documentation\n",
    "\n",
    "This assignment has 2 tasks. \n",
    "\n",
    "Task 1: Unemployment Rate and House Prices\n",
    "\n",
    "Task 2: Choice\n"
   ]
  },
  {
   "cell_type": "markdown",
   "metadata": {},
   "source": [
    "# Task 1: Unemployment Rate and House Prices\n",
    "\n",
    "In this task, you are required to visualise the relationship between:\n",
    " * unemployment rate\n",
    " * house price index\n",
    " * population of different Australian state\n",
    " * gain insights from how these relations and trends change over time using motion charts\n",
    "\n",
    "(A) Generate motion chart showing: \n",
    "   * Unemployment rate on the x-axis\n",
    "   * House price index on the y-axis\n",
    "   * Colour bubbles by state\n",
    "   * Size of bubbles by population\n",
    "> if the **time** on the motion chart is not displaying correcting - covert field into a simply string. \n",
    "> import datetime\n",
    "> data.Time = data.Time.apply(lambda x: datetime.datetime.strtime(x,'%d/%m/%y'))\n",
    "\n",
    "(B) Answer the following questions:\n",
    "    1. What are the overall patterns across different state in Australia?\n",
    "    2. Is there any relationship between unemployment rate and the house price index?\n",
    "    3. Which state has high unemployment rate and high house price index\n",
    "        (you may point out different period of time) \n",
    "        * how about low unemployment rate and low house price index?\n",
    "    4. What is the performance of the most populated states like NSW and VIC?\n",
    "    \n",
    "\n"
   ]
  },
  {
   "cell_type": "markdown",
   "metadata": {},
   "source": [
    "### Data files\n",
    "\n",
    "Data files provided are originally downloaded from:\n",
    "   * The Department of Employment\n",
    "   * Australian Bureau of Statistics (ABS)\n",
    "\n",
    "They are: \n",
    "\n",
    "* **ERP_by state and gender.csv**: Quarterly data about estimated resident population, between 1/12/2005 and 1/6/2015\n",
    "* **House Price Index**: Quarterly data of the Residential Property Price Index of the capital cities, between 1/12/2005 and 1/6/2015\n",
    "* **SA4 Time Series - October 2016.xls**: Monthly data of employment and unemployment rates, between 1/2/1978 and 1/6/2015\n"
   ]
  },
  {
   "cell_type": "markdown",
   "metadata": {},
   "source": [
    "## Importing relevant packages\n",
    "\n",
    "Relevant packages are being imported to assist in the creation of motion chart. \n",
    "\n",
    "***%matplotlib inline*** is a magic functon to ensure that output of plotting commands is displayed inline with Jupyter notebook, directly below the code cell that produced it. The resulting plot will then also be stored in the notebook itself. "
   ]
  },
  {
   "cell_type": "code",
   "execution_count": 338,
   "metadata": {},
   "outputs": [],
   "source": [
    "import pandas as pd\n",
    "from motionchart.motionchart import MotionChart\n",
    "import numpy as np \n",
    "import matplotlib.pyplot as plt \n",
    "import matplotlib.image as mpimg\n",
    "from scipy.stats import linregress\n",
    "import datetime\n",
    "#import calendar\n",
    "from functools import reduce\n",
    "\n",
    "%matplotlib inline"
   ]
  },
  {
   "cell_type": "markdown",
   "metadata": {},
   "source": [
    "## Importing Data\n",
    "\n",
    "### Explore the data\n",
    "Importing the relevant datasets using pandas"
   ]
  },
  {
   "cell_type": "code",
   "execution_count": 339,
   "metadata": {},
   "outputs": [],
   "source": [
    "House_price = pd.read_csv(\"./02_In/House Price Index.csv\")\n",
    "\n",
    "SA4_Time = pd.ExcelFile(\"./02_In/SA4 Time Series - October 2016.xls\")\n",
    "#this tells pandas which sheet to read\n",
    "SA4_df = SA4_Time.parse(\"Time Series\")\n",
    "\n",
    "ERP_Population = pd.ExcelFile(\"./02_In/ERP_Population.xls\")\n",
    "\n"
   ]
  },
  {
   "cell_type": "markdown",
   "metadata": {},
   "source": [
    "## ERP_by state and gender\n",
    "\n",
    "### Wrangling\n",
    "\n",
    "The data needs to be refined to get rid of superfluous rows and columns.  \n",
    "1. Remove the first 8 rows of the data\n",
    "2. Return fields to persons only, as this is what we are interested in\n",
    "3. Rename the fields to something more sensible\n",
    "4. Format the date field using pandas to_datetime\n",
    "5. Change the shape of the dataframe by using melt. \n",
    "    *for motion chart need a field with State names and melt will do this.* \n",
    "6. Extract data from the relevant date range only\n"
   ]
  },
  {
   "cell_type": "code",
   "execution_count": 340,
   "metadata": {},
   "outputs": [],
   "source": [
    "#this tells pandas which sheet to read\n",
    "ERP_Population_df = ERP_Population.parse(\"Data1\")\n",
    "\n",
    "#drop the first 8 rows as the data is irrelevant\n",
    "ERP_Population_df.drop(ERP_Population_df.index[:9], inplace = True)\n",
    "\n",
    "#Create a dataframe with the relevant columns only\n",
    "ERP_Population_df = ERP_Population_df.iloc[:, [18,19,20,21,22,23,24,25]]\n",
    "\n",
    "ERP_Population_df.reset_index(level = 0, inplace = True)\n",
    "#Rename the columns so that they are consistent with the other data\n",
    "ERP_Population_df = ERP_Population_df.rename(columns={'index': 'Date',\n",
    "                                      'Estimated Resident Population ;  Persons ;  New South Wales ;':'NSW',\n",
    "                                     'Estimated Resident Population ;  Persons ;  Victoria ;':'VIC',\n",
    "                                     'Estimated Resident Population ;  Persons ;  Queensland ;':'QLD',\n",
    "                                     'Estimated Resident Population ;  Persons ;  South Australia ;':'SA',\n",
    "                                     'Estimated Resident Population ;  Persons ;  Western Australia ;':'WA',\n",
    "                                     'Estimated Resident Population ;  Persons ;  Tasmania ;':'TAS',\n",
    "                                     'Estimated Resident Population ;  Persons ;  Northern Territory ;':'NT',\n",
    "                                     'Estimated Resident Population ;  Persons ;  Australian Capital Territory ;':'ACT',\n",
    "                                     'Estimated Resident Population ;  Persons ;  Australia ;':'Australia',})\n",
    "\n",
    "# #Ensure the date is actually a date\n",
    "ERP_Population_df['Date'] = pd.to_datetime(ERP_Population_df.Date)\n",
    "ERP_Population_df.head()\n",
    "#change the data so that the State and Population values are in separate columns, and rename the columns\n",
    "ERP_temp = pd.melt(ERP_Population_df, id_vars = 'Date', value_vars = ['NSW', 'VIC', 'QLD', 'SA', 'WA', 'TAS', 'NT', 'ACT'])\n",
    "erp_population= ERP_temp.rename(columns = {'variable': 'State/Territory','value': 'Population'})\n",
    "\n",
    "#specify the date range to read the data\n",
    "erp_population = erp_population[(erp_population['Date'] >= '2005-12-01') & (erp_population['Date'] <= '2015-06-1')]\n",
    "#determine the months to get the data frome\n",
    "months = [12,3,6,9]\n",
    "#grab the data from that month only\n",
    "t1_population_df = erp_population[erp_population['Date'].map(lambda t: t.month in months)]\n"
   ]
  },
  {
   "cell_type": "markdown",
   "metadata": {},
   "source": [
    "## House Price Index\n",
    "\n",
    "### Step 1: Look at the data\n",
    "Looking at the data to see if it is characterised by city. \n",
    "\n",
    "#### Definition of House Price Index\n",
    "The House Price Index (HPI) measures price change for established detached houses within eight capital cities in Australia over time. \n",
    "Established houses are defined as detached residential dwellings on their own block of land, including new houses sold as a house/land package. \n",
    "\n",
    "1. Bring in the data\n",
    "2. Rename the columns names\n",
    "3. Format the date field using pandas to_datetime"
   ]
  },
  {
   "cell_type": "code",
   "execution_count": 341,
   "metadata": {},
   "outputs": [],
   "source": [
    "#Rename the columns so that they are consistent\n",
    "house_price_df = House_price.rename(columns={'Unnamed: 0': 'Date',\n",
    "                                             'Residential Property Price Index ;  Sydney ;': 'NSW',\n",
    "                                            'Residential Property Price Index ;  Melbourne ;': 'VIC',\n",
    "                                            'Residential Property Price Index ;  Brisbane ;': 'QLD',\n",
    "                                            'Residential Property Price Index ;  Adelaide ;': 'SA',\n",
    "                                            'Residential Property Price Index ;  Perth ;': 'WA',\n",
    "                                            'Residential Property Price Index ;  Hobart ;': 'TAS',\n",
    "                                            'Residential Property Price Index ;  Darwin ;': 'NT',\n",
    "                                            'Residential Property Price Index ;  Canberra ;': 'ACT'})\n",
    "\n",
    "#Ensure that the Date field is actually date\n",
    "house_price_df['Date'] = pd.to_datetime(house_price_df.Date)\n",
    "\n",
    "#Transform the data so that the State and house price index are in columns with the right titles. \n",
    "house_price_temp = pd.melt(house_price_df, id_vars = 'Date', value_vars = ['NSW', 'VIC', 'QLD', 'SA', 'WA', 'TAS', 'NT', 'ACT'])\n",
    "HPI = house_price_temp.rename(columns = {'variable': 'State/Territory','value': 'HPI'})"
   ]
  },
  {
   "cell_type": "markdown",
   "metadata": {},
   "source": [
    "## SA4 Time Series - October 2016\n",
    "\n",
    "### Step 1: Look at the data\n",
    "The data is captured monthly, therefore will only extract the quarterly to align with the other datasets.  \n",
    "\n",
    "1. Bring in the data\n",
    "2. Rename the columns\n",
    "3. Format the date field using: "
   ]
  },
  {
   "cell_type": "code",
   "execution_count": 342,
   "metadata": {},
   "outputs": [],
   "source": [
    "#Ensure that the Date field is actually date\n",
    "SA4_df['Date'] = pd.to_datetime(SA4_df.Date)\n",
    "\n",
    "#Select that data at only at the specific date range as the other data\n",
    "SA4_df = SA4_df[(SA4_df['Date'] >= '2005-12-01') & (SA4_df['Date'] <= '2015-06-1')]\n",
    "SA4_df['Date'] - pd.offsets.MonthBegin(1, normalize=True)\n",
    "months = [12, 3, 6, 9]\n",
    "employment_df = SA4_df[SA4_df[\"Date\"].map(lambda t: t.month in months)]\n",
    "\n",
    "#Take only the relevant columns into a dataframe\n",
    "unemployment = employment_df.iloc[:, [0,1] + [3]]\n"
   ]
  },
  {
   "cell_type": "markdown",
   "metadata": {},
   "source": [
    "## Combine the data\n",
    "\n",
    "1. Merge the data using reduce and merge\n",
    "2. Change the date format so that it displays in a sensible way within the motion chart"
   ]
  },
  {
   "cell_type": "code",
   "execution_count": 343,
   "metadata": {},
   "outputs": [],
   "source": [
    "dfs = [t1_population_df, HPI, unemployment]\n",
    "#merge the data frames into 1. Reduce is used as it merges the first two, then the third\n",
    "unemployment_hpi = reduce(lambda left, right: pd.merge(left, right, on = ['Date','State/Territory']),dfs)\n",
    "#Change the date time string so that it looks sensible in the chart\n",
    "unemployment_hpi.Date=pd.to_datetime(unemployment_hpi.Date).dt.strftime('%d-%b-%y')\n",
    "\n",
    "#Code below is to output the combined dataframe into a *.csv. \n",
    "#umemployment_hpi.to_csv('umemployment rate and HPI.csv')"
   ]
  },
  {
   "cell_type": "markdown",
   "metadata": {},
   "source": [
    "## Finding min and max\n",
    "To understand the data, find the min and max for the category of HPI and unemployment"
   ]
  },
  {
   "cell_type": "code",
   "execution_count": 344,
   "metadata": {},
   "outputs": [],
   "source": [
    "max_hpi = unemployment_hpi.nlargest(3, 'HPI')\n",
    "max_unemployment = unemployment_hpi.nlargest(3, 'Unemployment Rate (15+)')\n",
    "\n",
    "min_hpi = unemployment_hpi.nsmallest(3, 'HPI')\n",
    "min_unemployment = unemployment_hpi.nsmallest(3, 'Unemployment Rate (15+)')\n",
    "\n",
    "#max_hpi\n",
    "#max_unemployment\n",
    "#min_hpi\n",
    "#min_unemployment"
   ]
  },
  {
   "cell_type": "markdown",
   "metadata": {},
   "source": [
    "## Generate Motion Chart\n",
    "\n",
    "The following html code block is just to make sure that you will see the entire motion chart nicely in the output cell. Although the motion chart is not being displayed in the jupyterHub notebook, I've kept this here just in case it is fixed. \n",
    "\n"
   ]
  },
  {
   "cell_type": "code",
   "execution_count": 345,
   "metadata": {},
   "outputs": [
    {
     "data": {
      "text/html": [
       "<style>\n",
       ".output_wrapper, .output {\n",
       "    height:auto !important;\n",
       "    max-height:1000px;  /* your desired max-height here */\n",
       "}\n",
       ".output_scroll {\n",
       "    box-shadow:none !important;\n",
       "    webkit-box-shadow:none !important;\n",
       "}\n",
       "</style>"
      ],
      "text/plain": [
       "<IPython.core.display.HTML object>"
      ]
     },
     "metadata": {},
     "output_type": "display_data"
    }
   ],
   "source": [
    "%%html\n",
    "<style>\n",
    ".output_wrapper, .output {\n",
    "    height:auto !important;\n",
    "    max-height:1000px;  /* your desired max-height here */\n",
    "}\n",
    ".output_scroll {\n",
    "    box-shadow:none !important;\n",
    "    webkit-box-shadow:none !important;\n",
    "}\n",
    "</style>"
   ]
  },
  {
   "cell_type": "markdown",
   "metadata": {},
   "source": [
    "The following code is putting the data into a motion chart. The use of to_browser() instead of to_notebook() is used, due to the technical difficulties in Monash's JupyterHub not displaying the data. "
   ]
  },
  {
   "cell_type": "code",
   "execution_count": 346,
   "metadata": {
    "scrolled": false
   },
   "outputs": [
    {
     "data": {
      "text/html": [
       "\n",
       "        <iframe\n",
       "            width=\"900\"\n",
       "            height=\"700\"\n",
       "            src=\"mc_temp.html\"\n",
       "            frameborder=\"0\"\n",
       "            allowfullscreen\n",
       "        ></iframe>\n",
       "        "
      ],
      "text/plain": [
       "<IPython.lib.display.IFrame at 0x7f8585bb1fd0>"
      ]
     },
     "metadata": {},
     "output_type": "display_data"
    }
   ],
   "source": [
    "unemployment_hpi_plot = MotionChart(umemployment_hpi, key='Date', x='Unemployment Rate (15+)', y='HPI', xscale='linear', yscale='linear',\n",
    "                     size='Population', color='State/Territory', category='State/Territory')\n",
    "\n",
    "unemployment_hpi_plot.to_notebook()"
   ]
  },
  {
   "cell_type": "markdown",
   "metadata": {},
   "source": [
    "# Task 2: Family Structure and Residential Property Price Index\n",
    "\n",
    "The aim of this task is to supplement the first task to determine if there is a change in the family structure of 'Family with Children' due to pressures in the Residential Property Price Index. "
   ]
  },
  {
   "cell_type": "markdown",
   "metadata": {},
   "source": [
    "## Data\n",
    "\n",
    "Data obatained from http://stat.data.abs.gov.au/\n",
    "\n",
    "**Data used**\n",
    "1. Projected_Families.csv\n",
    "2. Household_projections.csv\n",
    "3. ERP_Populations.xls - taken from task 1\n",
    "4. RPPI.xls\n"
   ]
  },
  {
   "cell_type": "markdown",
   "metadata": {},
   "source": [
    "### Import Data"
   ]
  },
  {
   "cell_type": "code",
   "execution_count": 211,
   "metadata": {},
   "outputs": [],
   "source": [
    "household_projections = pd.read_csv(\"./02_In/HouseHoldProjection.csv\")\n",
    "projected_families = pd.read_csv(\"./02_In/Projected_families.csv\")\n",
    "residential_prop_price = pd.ExcelFile(\"./02_In/RPPI.xls\")\n"
   ]
  },
  {
   "cell_type": "markdown",
   "metadata": {},
   "source": [
    "## Household Projections\n",
    "\n",
    "### Step 1: Look at the data\n",
    "Looking at the data to see if it is characterised by city. \n",
    "\n",
    "#### Wrangling the data\n",
    "\n",
    "1. Consolidate the data to one State by renaming values\n",
    "2. Reformat the data frame \n"
   ]
  },
  {
   "cell_type": "code",
   "execution_count": 337,
   "metadata": {},
   "outputs": [
    {
     "data": {
      "text/html": [
       "<div>\n",
       "<style scoped>\n",
       "    .dataframe tbody tr th:only-of-type {\n",
       "        vertical-align: middle;\n",
       "    }\n",
       "\n",
       "    .dataframe tbody tr th {\n",
       "        vertical-align: top;\n",
       "    }\n",
       "\n",
       "    .dataframe thead th {\n",
       "        text-align: right;\n",
       "    }\n",
       "</style>\n",
       "<table border=\"1\" class=\"dataframe\">\n",
       "  <thead>\n",
       "    <tr style=\"text-align: right;\">\n",
       "      <th></th>\n",
       "      <th>Time</th>\n",
       "      <th>Region</th>\n",
       "      <th>Percentage Family Households</th>\n",
       "    </tr>\n",
       "  </thead>\n",
       "  <tbody>\n",
       "    <tr>\n",
       "      <th>0</th>\n",
       "      <td>2011</td>\n",
       "      <td>ACT</td>\n",
       "      <td>70.257852</td>\n",
       "    </tr>\n",
       "    <tr>\n",
       "      <th>1</th>\n",
       "      <td>2011</td>\n",
       "      <td>Australia</td>\n",
       "      <td>71.252541</td>\n",
       "    </tr>\n",
       "    <tr>\n",
       "      <th>2</th>\n",
       "      <td>2011</td>\n",
       "      <td>NSW</td>\n",
       "      <td>71.687344</td>\n",
       "    </tr>\n",
       "    <tr>\n",
       "      <th>3</th>\n",
       "      <td>2011</td>\n",
       "      <td>NT</td>\n",
       "      <td>73.152692</td>\n",
       "    </tr>\n",
       "    <tr>\n",
       "      <th>4</th>\n",
       "      <td>2011</td>\n",
       "      <td>QLD</td>\n",
       "      <td>72.050011</td>\n",
       "    </tr>\n",
       "  </tbody>\n",
       "</table>\n",
       "</div>"
      ],
      "text/plain": [
       "   Time     Region  Percentage Family Households\n",
       "0  2011        ACT                     70.257852\n",
       "1  2011  Australia                     71.252541\n",
       "2  2011        NSW                     71.687344\n",
       "3  2011         NT                     73.152692\n",
       "4  2011        QLD                     72.050011"
      ]
     },
     "execution_count": 337,
     "metadata": {},
     "output_type": "execute_result"
    }
   ],
   "source": [
    "#Combine the data so that they are combined by state\n",
    "household_projections[\"Region\"].replace([\"Greater Brisbane\", \"Brisbane\", \"Rest of Qld\", 'Queensland'], \"QLD\", inplace=True)\n",
    "household_projections[\"Region\"].replace([\"Greater Darwin\", \"Northern Territory\", \"Rest of NT\", \"Darwin\"], \"NT\", inplace=True)\n",
    "household_projections[\"Region\"].replace([\"Greater Melbourne\", \"Melbourne\", \"Rest of Vic.\", 'Melbourne', 'Victoria'], \"VIC\", inplace=True)\n",
    "household_projections[\"Region\"].replace([\"Greater Perth\", \"Perth\", \"Rest of WA\", 'Western Australia'], \"WA\", inplace=True)\n",
    "household_projections[\"Region\"].replace([\"Greater Adelaide\", \"Adelaide\", \"Rest of SA\", 'South Australia'], \"SA\", inplace=True)\n",
    "household_projections[\"Region\"].replace([\"Greater Sydney\",\"Rest of NSW\", 'Sydney', \"New South Wales\"], \"NSW\", inplace=True)\n",
    "household_projections[\"Region\"].replace([\"Australian Capital Territory\"], \"ACT\", inplace=True)\n",
    "household_projections[\"Region\"].replace([\"Greater Hobart\", \"Hobart\", \"Rest of Tas.\", 'Tasmania'], \"TAS\", inplace=True)\n",
    "\n",
    "#create a dataframe with the columns needed\n",
    "hh_projections = household_projections[['Time','Region', 'Household Type', 'Value']]\n",
    "#transform the dataframe using pivot to have the right columns and rows\n",
    "p_hh_projections = hh_projections.pivot_table(index=['Time', 'Region'], columns='Household Type', values='Value',aggfunc='sum')\n",
    "\n",
    "#turn the pivot table into a working dataframe\n",
    "projected_households = pd.DataFrame(p_hh_projections.to_records())\n",
    "\n",
    "#find percentage of family households\n",
    "projected_households['Percentage Family Households'] = (projected_households['Family households'] / projected_households['Total households']) *100\n",
    "\n",
    "#refine the dataframe to only use the relevant fields\n",
    "total_households_proj = projected_households[['Time', 'Region', 'Percentage Family Households']]\n"
   ]
  },
  {
   "cell_type": "markdown",
   "metadata": {},
   "source": [
    "## Projected families\n",
    "\n",
    "### Wrangling the data\n",
    "\n",
    "1. Consolidate the data to one State by renaming values\n",
    "2. Reformat the data frame "
   ]
  },
  {
   "cell_type": "code",
   "execution_count": 329,
   "metadata": {},
   "outputs": [
    {
     "data": {
      "text/html": [
       "<div>\n",
       "<style scoped>\n",
       "    .dataframe tbody tr th:only-of-type {\n",
       "        vertical-align: middle;\n",
       "    }\n",
       "\n",
       "    .dataframe tbody tr th {\n",
       "        vertical-align: top;\n",
       "    }\n",
       "\n",
       "    .dataframe thead th {\n",
       "        text-align: right;\n",
       "    }\n",
       "</style>\n",
       "<table border=\"1\" class=\"dataframe\">\n",
       "  <thead>\n",
       "    <tr style=\"text-align: right;\">\n",
       "      <th></th>\n",
       "      <th>Time</th>\n",
       "      <th>Region</th>\n",
       "      <th>Percentage couples with children</th>\n",
       "    </tr>\n",
       "  </thead>\n",
       "  <tbody>\n",
       "    <tr>\n",
       "      <th>0</th>\n",
       "      <td>2011</td>\n",
       "      <td>ACT</td>\n",
       "      <td>45.693782</td>\n",
       "    </tr>\n",
       "    <tr>\n",
       "      <th>1</th>\n",
       "      <td>2011</td>\n",
       "      <td>Australia</td>\n",
       "      <td>44.144451</td>\n",
       "    </tr>\n",
       "    <tr>\n",
       "      <th>2</th>\n",
       "      <td>2011</td>\n",
       "      <td>NSW</td>\n",
       "      <td>45.101885</td>\n",
       "    </tr>\n",
       "    <tr>\n",
       "      <th>3</th>\n",
       "      <td>2011</td>\n",
       "      <td>NT</td>\n",
       "      <td>45.973897</td>\n",
       "    </tr>\n",
       "    <tr>\n",
       "      <th>4</th>\n",
       "      <td>2011</td>\n",
       "      <td>QLD</td>\n",
       "      <td>42.376759</td>\n",
       "    </tr>\n",
       "  </tbody>\n",
       "</table>\n",
       "</div>"
      ],
      "text/plain": [
       "   Time     Region  Percentage couples with children\n",
       "0  2011        ACT                         45.693782\n",
       "1  2011  Australia                         44.144451\n",
       "2  2011        NSW                         45.101885\n",
       "3  2011         NT                         45.973897\n",
       "4  2011        QLD                         42.376759"
      ]
     },
     "execution_count": 329,
     "metadata": {},
     "output_type": "execute_result"
    }
   ],
   "source": [
    "#Combine the data so that they are combined by state\n",
    "projected_families[\"Region\"].replace([\"Greater Brisbane\", \"Brisbane\", \"Rest of Qld\", 'Queensland'], \"QLD\", inplace=True)\n",
    "projected_families[\"Region\"].replace([\"Greater Darwin\", \"Northern Territory\", \"Rest of NT\", \"Darwin\"], \"NT\", inplace=True)\n",
    "projected_families[\"Region\"].replace([\"Greater Melbourne\", \"Melbourne\", \"Rest of Vic.\", 'Melbourne', 'Victoria'], \"VIC\", inplace=True)\n",
    "projected_families[\"Region\"].replace([\"Greater Perth\", \"Perth\", \"Rest of WA\", 'Western Australia'], \"WA\", inplace=True)\n",
    "projected_families[\"Region\"].replace([\"Greater Adelaide\", \"Adelaide\", \"Rest of SA\", 'South Australia'], \"SA\", inplace=True)\n",
    "projected_families[\"Region\"].replace([\"Greater Sydney\",\"Rest of NSW\", 'Sydney', \"New South Wales\"], \"NSW\", inplace=True)\n",
    "projected_families[\"Region\"].replace([\"Australian Capital Territory\"], \"ACT\", inplace=True)\n",
    "projected_families[\"Region\"].replace([\"Greater Hobart\", \"Hobart\", \"Rest of Tas.\", 'Tasmania'], \"TAS\", inplace=True)\n",
    "\n",
    "#create a dataframe with the columns needed\n",
    "family_types = projected_families[['Time', 'Region', 'Family Type','Value']]\n",
    "#transform the dataframe using pivot to have the right columns and rows\n",
    "pivot_familty_types = family_types.pivot_table(index = ['Time', 'Region'], columns = 'Family Type', values = 'Value', aggfunc = 'sum')\n",
    "\n",
    "#turn the pivot table into a working dataframe\n",
    "proj_family_types = pd.DataFrame(pivot_familty_types.to_records())\n",
    "\n",
    "#find percentage of family households\n",
    "proj_family_types['Percentage couples with children'] = (proj_family_types['Couple families with children'] / proj_family_types['Total families']) *100\n",
    "\n",
    "#refine the dataframe to only use the relevant fields\n",
    "total_families_proj = proj_family_types[['Time', 'Region', 'Percentage couples with children']]\n",
    "total_families_proj.head()"
   ]
  },
  {
   "cell_type": "markdown",
   "metadata": {},
   "source": [
    "## ERP_by state and gender\n",
    "\n",
    "### Wrangling\n",
    "The data is being reused from the first task\n",
    "\n",
    "The data is changed to fit the date range for task 2. "
   ]
  },
  {
   "cell_type": "code",
   "execution_count": 330,
   "metadata": {
    "scrolled": true
   },
   "outputs": [],
   "source": [
    "#specify the date range to read the data\n",
    "erp_population = erp_population[(erp_population['Date'] >= '2005-12-01') & (erp_population['Date'] <= '2017-12-1')]\n",
    "#determine the months to get the data frome\n",
    "month = [12]\n",
    "#grab the data from that month only\n",
    "t2_population_df = erp_population[erp_population['Date'].map(lambda t: t.month in month)]\n",
    "\n",
    "#Change the column names so that they are consistent\n",
    "t2_population = t2_population_df.rename(columns={'State/Territory': 'Region', 'Date': 'Time'})\n",
    "\n",
    "#only grab the year \n",
    "t2_population['Time'] = t2_population_df['Date'].dt.year"
   ]
  },
  {
   "cell_type": "markdown",
   "metadata": {},
   "source": [
    "## Residential Property Price Index (RPPI)\n",
    "\n",
    "### Wrangling\n",
    "\n",
    "The data needs to be refined to get rid of superfluous rows and columns.  \n",
    "1. Remove the first 8 rows of the data\n",
    "2. Return fields to persons only, as this is what we are interested in\n",
    "3. Rename the fields to something more sensible\n",
    "4. Format the date field using pandas to_datetime\n",
    "5. Change the shape of the dataframe by using melt. \n",
    "    *for motion chart need a field with State names and melt will do this.* \n",
    "6. Extract data from the relevant date range only\n"
   ]
  },
  {
   "cell_type": "code",
   "execution_count": 331,
   "metadata": {},
   "outputs": [],
   "source": [
    "#this tells pandas which sheet to read\n",
    "rppi_df = residential_prop_price.parse(\"Data1\")\n",
    "\n",
    "#drop the first 8 rows as the data is irrelevant\n",
    "rppi_df.drop(rppi_df.index[:9], inplace = True)\n",
    "\n",
    "#Create a dataframe with the relevant columns only\n",
    "rppi_df = rppi_df.iloc[:, 0:8]\n",
    "rppi_df\n",
    "\n",
    "rppi_df.reset_index(level = 0, inplace = True)\n",
    "#Rename the columns so that they are consistent with the other data\n",
    "rppi_df = rppi_df.rename(columns={'index': 'Time',\n",
    "                                      'Residential Property Price Index ;  Sydney ;':'NSW',\n",
    "                                     'Residential Property Price Index ;  Melbourne ;':'VIC',\n",
    "                                     'Residential Property Price Index ;  Brisbane ;':'QLD',\n",
    "                                     'Residential Property Price Index ;  Adelaide ;':'SA',\n",
    "                                     'Residential Property Price Index ;  Perth ;':'WA',\n",
    "                                     'Residential Property Price Index ;  Hobart ;':'TAS',\n",
    "                                     'Residential Property Price Index ;  Darwin ;':'NT',\n",
    "                                     'Residential Property Price Index ;  Canberra ;':'ACT'})\n",
    "\n",
    "\n",
    "#change the data so that the State and Population values are in separate columns, and rename the columns\n",
    "rppi_temp = pd.melt(rppi_df, id_vars = 'Time', value_vars = ['NSW', 'VIC', 'QLD', 'SA', 'WA', 'TAS', 'NT', 'ACT'])\n",
    "rppi_by_state= rppi_temp.rename(columns = {'variable': 'Region','value': 'RPPI'})\n",
    "\n",
    "#Ensure the date is actually a date\n",
    "rppi_df['Time'] = pd.to_datetime(ERP_Population_df.Date)\n",
    "\n",
    "#specify the date range to read the data\n",
    "rppi_by_state = rppi_by_state[(rppi_by_state['Time'] >= '2005-12-01') & (rppi_by_state['Time'] <= '2017-12-1')]\n",
    "\n",
    "#determine the months to get the data frome\n",
    "months = [12]\n",
    "#grab the data from that month only\n",
    "rppi_df_chart = rppi_by_state[rppi_by_state['Time'].map(lambda t: t.month in months)]\n",
    "\n",
    "#copy the dataframe so that the year can be extracted\n",
    "rppi_to_chart = rppi_df_chart.filter(['Time', 'Region', 'RPPI'], axis = 1)\n",
    "\n",
    "#only grab the year \n",
    "rppi_to_chart['Time'] = rppi_df_chart['Time'].dt.year\n"
   ]
  },
  {
   "cell_type": "markdown",
   "metadata": {},
   "source": [
    "# Combine the data\n",
    "\n",
    "1. Merge the data using reduce and merge"
   ]
  },
  {
   "cell_type": "code",
   "execution_count": 336,
   "metadata": {},
   "outputs": [],
   "source": [
    "dataframes = [total_households_proj, total_families_proj, t2_population,rppi_to_chart]\n",
    "\n",
    "#Consolidate the dataframes. reduce is used to merge 3 datframes at once. \n",
    "households_families_rppi = reduce(lambda left, right: pd.merge(left, right, on = ['Time','Region']),dataframes) \n",
    "households_families_rppi.head()\n",
    "\n",
    "#Code below is to output the combined dataframe into a *.csv. \n",
    "#households_families_rppi.to_csv('family structure and RPPI.csv')"
   ]
  },
  {
   "cell_type": "markdown",
   "metadata": {},
   "source": [
    "# Generate Motion Chart\n",
    "\n",
    "The following html code block is just to make sure that you will see the entire motion chart nicely in the output cell. Although the motion chart is not being displayed in the jupyterHub notebook, I've kept this here just in case it is fixed. "
   ]
  },
  {
   "cell_type": "code",
   "execution_count": 323,
   "metadata": {},
   "outputs": [
    {
     "data": {
      "text/html": [
       "<style>\n",
       ".output_wrapper, .output {\n",
       "    height:auto !important;\n",
       "    max-height:1000px;  /* your desired max-height here */\n",
       "}\n",
       ".output_scroll {\n",
       "    box-shadow:none !important;\n",
       "    webkit-box-shadow:none !important;\n",
       "}\n",
       "</style>"
      ],
      "text/plain": [
       "<IPython.core.display.HTML object>"
      ]
     },
     "metadata": {},
     "output_type": "display_data"
    }
   ],
   "source": [
    "%%html\n",
    "<style>\n",
    ".output_wrapper, .output {\n",
    "    height:auto !important;\n",
    "    max-height:1000px;  /* your desired max-height here */\n",
    "}\n",
    ".output_scroll {\n",
    "    box-shadow:none !important;\n",
    "    webkit-box-shadow:none !important;\n",
    "}\n",
    "</style>"
   ]
  },
  {
   "cell_type": "code",
   "execution_count": 335,
   "metadata": {},
   "outputs": [
    {
     "data": {
      "text/html": [
       "\n",
       "        <iframe\n",
       "            width=\"900\"\n",
       "            height=\"700\"\n",
       "            src=\"mc_temp.html\"\n",
       "            frameborder=\"0\"\n",
       "            allowfullscreen\n",
       "        ></iframe>\n",
       "        "
      ],
      "text/plain": [
       "<IPython.lib.display.IFrame at 0x7f8585ad9438>"
      ]
     },
     "metadata": {},
     "output_type": "display_data"
    }
   ],
   "source": [
    "household_family_plot = MotionChart(households_families_rppi, key='Time', x='Percentage couples with children', y='RPPI', xscale='linear', yscale='linear',\n",
    "                     size='Population', color='Region', category='Region')\n",
    "\n",
    "household_family_plot.to_notebook()"
   ]
  }
 ],
 "metadata": {
  "kernelspec": {
   "display_name": "Python 3",
   "language": "python",
   "name": "python3"
  },
  "language_info": {
   "codemirror_mode": {
    "name": "ipython",
    "version": 3
   },
   "file_extension": ".py",
   "mimetype": "text/x-python",
   "name": "python",
   "nbconvert_exporter": "python",
   "pygments_lexer": "ipython3",
   "version": "3.5.2"
  }
 },
 "nbformat": 4,
 "nbformat_minor": 2
}
